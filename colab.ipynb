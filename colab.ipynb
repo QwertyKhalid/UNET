{
 "cells": [
  {
   "cell_type": "markdown",
   "metadata": {},
   "source": [
    "# UNET Project in Google Colab"
   ]
  },
  {
   "cell_type": "code",
   "execution_count": null,
   "metadata": {},
   "outputs": [],
   "source": [
    "!pip install opencv-python-headless==4.1.2.30\n",
    "!pip install albumentations==1.1.0\n",
    "import albumentations\n",
    "from albumentations.pytorch import ToTensorV2"
   ]
  },
  {
   "cell_type": "code",
   "execution_count": null,
   "metadata": {},
   "outputs": [],
   "source": [
    "%cd /content/drive/MyDrive/GYARTE/PyTorch/UNET"
   ]
  },
  {
   "cell_type": "code",
   "execution_count": null,
   "metadata": {},
   "outputs": [],
   "source": [
    "#Train UNET model with default hyperparameters\n",
    "!python train.py"
   ]
  },
  {
   "cell_type": "code",
   "execution_count": null,
   "metadata": {},
   "outputs": [],
   "source": [
    "#Train model with custom hyperparameters through argparse\n",
    "!python train.py --EPOCHS 20 --BATCH_SIZE 6 --OPTIMIZER SGD --LEARNING_RATE 1e-4"
   ]
  },
  {
   "cell_type": "code",
   "execution_count": null,
   "metadata": {},
   "outputs": [],
   "source": [
    "#Load model for inference\n",
    "!python train.py --LOAD_MODEL True --LOAD_MODEL_PATH /content/drive/MyDrive/GYARTE/PyTorch/UNET/models/UNET_model3.pt --EPOCHS 4 --BATCH_SIZE 3"
   ]
  }
 ],
 "metadata": {
  "interpreter": {
   "hash": "adb103c8ee969d0abb9d23be478610f2f96313db3960c30451922eeac8b7c25d"
  },
  "kernelspec": {
   "display_name": "Python 3.9.9 ('env': venv)",
   "language": "python",
   "name": "python3"
  },
  "language_info": {
   "name": "python",
   "version": "3.9.9"
  },
  "orig_nbformat": 4
 },
 "nbformat": 4,
 "nbformat_minor": 2
}
